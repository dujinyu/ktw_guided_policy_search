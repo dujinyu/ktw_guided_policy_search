{
 "cells": [
  {
   "cell_type": "code",
   "execution_count": null,
   "metadata": {
    "collapsed": false
   },
   "outputs": [],
   "source": [
    "from __future__ import division\n",
    "import matplotlib.pyplot as plt\n",
    "get_ipython().magic(u'matplotlib inline')\n",
    "import numpy as np\n",
    "import scipy as sp\n",
    "import scipy.linalg\n",
    "import time\n",
    "import random\n",
    "import tensorflow as tf\n",
    "from termcolor import colored\n",
    "def print_np(x):\n",
    "    print (\"Type is %s\" % (type(x)))\n",
    "    print (\"Shape is %s\" % (x.shape,))\n",
    "    print (\"Values are: \\n%s\" % (x))\n",
    "import pickle"
   ]
  },
  {
   "cell_type": "code",
   "execution_count": null,
   "metadata": {
    "collapsed": false,
    "scrolled": false
   },
   "outputs": [],
   "source": [
    "from mdgps import mdGPS\n",
    "## main\n",
    "myGPS = mdGPS('hi',True)"
   ]
  },
  {
   "cell_type": "code",
   "execution_count": null,
   "metadata": {
    "collapsed": false,
    "scrolled": false
   },
   "outputs": [],
   "source": [
    "myLogging = myGPS.update()"
   ]
  },
  {
   "cell_type": "code",
   "execution_count": null,
   "metadata": {
    "collapsed": false
   },
   "outputs": [],
   "source": [
    "with open('True_set.p', 'wb') as file :\n",
    "    pickle.dump(myLogging,file)"
   ]
  },
  {
   "cell_type": "code",
   "execution_count": null,
   "metadata": {
    "collapsed": false
   },
   "outputs": [],
   "source": [
    "# with open('False.p', 'rb') as file :\n",
    "#     temp_f = pickle.load(file)\n",
    "#     print temp_f.count_const, np.sum(temp_f.count_const)\n",
    "\n",
    "# with open('True.p', 'rb') as file :\n",
    "#     temp_c = pickle.load(file)\n",
    "#     print temp_c.count_const, np.sum(temp_c.count_const)"
   ]
  },
  {
   "cell_type": "code",
   "execution_count": null,
   "metadata": {
    "collapsed": false
   },
   "outputs": [],
   "source": [
    "# with open('False.p', 'rb') as file :\n",
    "#     temp_f = pickle.load(file)\n",
    "#     print np.max(temp_f.max_const,2), np.sum(temp_f.max_const)\n",
    "\n",
    "# with open('True.p', 'rb') as file :\n",
    "#     temp_c = pickle.load(file)\n",
    "#     print np.max(temp_c.max_const,2), np.sum(temp_c.max_const)"
   ]
  },
  {
   "cell_type": "code",
   "execution_count": null,
   "metadata": {
    "collapsed": false
   },
   "outputs": [],
   "source": [
    "# with open('False_set.p', 'rb') as file :\n",
    "#     temp_f = pickle.load(file)\n",
    "#     print temp_f.count_const, np.sum(temp_f.count_const)"
   ]
  },
  {
   "cell_type": "code",
   "execution_count": null,
   "metadata": {
    "collapsed": true
   },
   "outputs": [],
   "source": []
  }
 ],
 "metadata": {
  "kernelspec": {
   "display_name": "Python 2",
   "language": "python",
   "name": "python2"
  },
  "language_info": {
   "codemirror_mode": {
    "name": "ipython",
    "version": 2
   },
   "file_extension": ".py",
   "mimetype": "text/x-python",
   "name": "python",
   "nbconvert_exporter": "python",
   "pygments_lexer": "ipython2",
   "version": "2.7.13"
  }
 },
 "nbformat": 4,
 "nbformat_minor": 0
}
