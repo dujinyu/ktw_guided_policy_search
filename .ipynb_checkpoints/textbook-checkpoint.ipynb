{
 "cells": [
  {
   "cell_type": "code",
   "execution_count": 1,
   "metadata": {
    "collapsed": true
   },
   "outputs": [],
   "source": [
    "from __future__ import division\n",
    "import matplotlib.pyplot as plt\n",
    "% matplotlib inline\n",
    "import numpy as np\n",
    "import scipy as sp\n",
    "import scipy.linalg\n",
    "import time\n",
    "import random\n",
    "import tensorflow as tf\n",
    "def print_np(x):\n",
    "    print (\"Type is %s\" % (type(x)))\n",
    "    print (\"Shape is %s\" % (x.shape,))\n",
    "    print (\"Values are: \\n%s\" % (x))"
   ]
  },
  {
   "cell_type": "code",
   "execution_count": 15,
   "metadata": {
    "collapsed": false
   },
   "outputs": [
    {
     "name": "stdout",
     "output_type": "stream",
     "text": [
      "Type is <type 'numpy.ndarray'>\n",
      "Shape is (3, 2)\n",
      "Values are: \n",
      "[[ 1.  1.]\n",
      " [ 2.  2.]\n",
      " [ 3.  3.]]\n",
      "Type is <type 'numpy.ndarray'>\n",
      "Shape is (3, 2, 1)\n",
      "Values are: \n",
      "[[[ 1.]\n",
      "  [ 1.]]\n",
      "\n",
      " [[ 2.]\n",
      "  [ 2.]]\n",
      "\n",
      " [[ 3.]\n",
      "  [ 3.]]]\n",
      "Type is <type 'numpy.ndarray'>\n",
      "Shape is (3, 2, 2)\n",
      "Values are: \n",
      "[[[ 1.  1.]\n",
      "  [ 1.  1.]]\n",
      "\n",
      " [[ 2.  2.]\n",
      "  [ 2.  2.]]\n",
      "\n",
      " [[ 3.  3.]\n",
      "  [ 3.  3.]]]\n",
      "Type is <type 'numpy.ndarray'>\n",
      "Shape is (3, 2, 6)\n",
      "Values are: \n",
      "[[[ 1.  1.  1.  1.  1.  1.]\n",
      "  [ 1.  1.  1.  1.  1.  1.]]\n",
      "\n",
      " [[ 2.  2.  2.  2.  2.  2.]\n",
      "  [ 2.  2.  2.  2.  2.  2.]]\n",
      "\n",
      " [[ 3.  3.  3.  3.  3.  3.]\n",
      "  [ 3.  3.  3.  3.  3.  3.]]]\n",
      "Type is <type 'numpy.ndarray'>\n",
      "Shape is (18, 2)\n",
      "Values are: \n",
      "[[ 1.  1.]\n",
      " [ 1.  1.]\n",
      " [ 1.  1.]\n",
      " [ 1.  1.]\n",
      " [ 1.  1.]\n",
      " [ 1.  1.]\n",
      " [ 2.  2.]\n",
      " [ 2.  2.]\n",
      " [ 2.  2.]\n",
      " [ 2.  2.]\n",
      " [ 2.  2.]\n",
      " [ 2.  2.]\n",
      " [ 3.  3.]\n",
      " [ 3.  3.]\n",
      " [ 3.  3.]\n",
      " [ 3.  3.]\n",
      " [ 3.  3.]\n",
      " [ 3.  3.]]\n"
     ]
    }
   ],
   "source": [
    "a = np.ones([3,2])\n",
    "# print_np(a)\n",
    "for i in range(3) :\n",
    "    a[i,:] = a[0,:] * (i+1)\n",
    "print_np(a)\n",
    "a1 = np.expand_dims(a,axis=2)\n",
    "print_np(a1)\n",
    "a2 = np.tile(a1,(1,1,2))\n",
    "print_np(a2)\n",
    "a3 = np.dstack((a2,np.tile(a1,(1,1,4))))\n",
    "print_np(a3)\n",
    "a4 = np.reshape( np.transpose(a3,(0,2,1)), (3*6,2))\n",
    "print_np(a4)"
   ]
  },
  {
   "cell_type": "code",
   "execution_count": null,
   "metadata": {
    "collapsed": true
   },
   "outputs": [],
   "source": [
    "b = np.ones(3)\n",
    "for i in range(3) :\n",
    "    a[i,:] = a[0,:] * (i+1)"
   ]
  }
 ],
 "metadata": {
  "kernelspec": {
   "display_name": "Python 2",
   "language": "python",
   "name": "python2"
  },
  "language_info": {
   "codemirror_mode": {
    "name": "ipython",
    "version": 2
   },
   "file_extension": ".py",
   "mimetype": "text/x-python",
   "name": "python",
   "nbconvert_exporter": "python",
   "pygments_lexer": "ipython2",
   "version": "2.7.13"
  }
 },
 "nbformat": 4,
 "nbformat_minor": 0
}
