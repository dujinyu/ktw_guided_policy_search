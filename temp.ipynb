{
 "cells": [
  {
   "cell_type": "code",
   "execution_count": 1,
   "metadata": {
    "collapsed": true
   },
   "outputs": [],
   "source": [
    "from __future__ import division\n",
    "import matplotlib.pyplot as plt\n",
    "get_ipython().magic(u'matplotlib inline')\n",
    "import numpy as np\n",
    "import scipy as sp\n",
    "import scipy.linalg\n",
    "import time\n",
    "import random\n",
    "import tensorflow as tf\n",
    "from termcolor import colored\n",
    "def print_np(x):\n",
    "    print (\"Type is %s\" % (type(x)))\n",
    "    print (\"Shape is %s\" % (x.shape,))\n",
    "    print (\"Values are: \\n%s\" % (x))"
   ]
  },
  {
   "cell_type": "code",
   "execution_count": 2,
   "metadata": {
    "collapsed": false
   },
   "outputs": [],
   "source": [
    "from model import unicycle\n",
    "from cost import tracking\n",
    "from iLQR import iLQR\n",
    "from poliOpt import poliOpt\n",
    "from appPoliOpt import appPoliOpt\n",
    "from trajOpt import trajOpt\n",
    "from policyClass import localPolicy\n",
    "from modelLearn import localModelLearn, localPolicyLearn\n",
    "from gps_util import getCostNN, getCostAppNN, getCostTraj, getObs, getDesired, getPlot"
   ]
  },
  {
   "cell_type": "code",
   "execution_count": 3,
   "metadata": {
    "collapsed": false
   },
   "outputs": [],
   "source": [
    "myPolicy = appPoliOpt('unicycle',100,5000,0.01,3,2,100)"
   ]
  },
  {
   "cell_type": "code",
   "execution_count": 4,
   "metadata": {
    "collapsed": false
   },
   "outputs": [],
   "source": [
    "myPolicy.setEnv(200,0.01)"
   ]
  },
  {
   "cell_type": "code",
   "execution_count": 5,
   "metadata": {
    "collapsed": false
   },
   "outputs": [],
   "source": [
    "# data generation\n",
    "K = np.zeros((2,3))\n",
    "k = np.ones((2,1))\n",
    "K[0,0] = 1\n",
    "K[1,0] = 2\n",
    "K[0,1] = 1\n",
    "K[1,1] = 2\n",
    "K[0,2] = 4\n",
    "K[1,2] = 3\n",
    "k[0] = 1\n",
    "k[1] = 2\n",
    "x = np.random.uniform(-10,10,(3,100))\n",
    "u = np.matmul(K,x) + k + np.random.randn(2,100)*0.05"
   ]
  },
  {
   "cell_type": "code",
   "execution_count": 6,
   "metadata": {
    "collapsed": false,
    "scrolled": false
   },
   "outputs": [
    {
     "name": "stdout",
     "output_type": "stream",
     "text": [
      "epoch 1, Training Loss= 528.077159\n",
      "epoch 41, Training Loss= 0.327910\n",
      "epoch 81, Training Loss= 0.190394\n",
      "epoch 121, Training Loss= 0.157399\n",
      "epoch 161, Training Loss= 0.140455\n",
      "Optimization - approximated policy is optimized\n"
     ]
    }
   ],
   "source": [
    "myPolicy.setEnv(200,0.001)\n",
    "myPolicy.update(x.transpose(),u.transpose(),1)"
   ]
  },
  {
   "cell_type": "code",
   "execution_count": 7,
   "metadata": {
    "collapsed": false
   },
   "outputs": [],
   "source": [
    "a = myPolicy.jacobian(x[:,0:10].transpose())"
   ]
  },
  {
   "cell_type": "code",
   "execution_count": 8,
   "metadata": {
    "collapsed": false
   },
   "outputs": [
    {
     "name": "stdout",
     "output_type": "stream",
     "text": [
      "[[1. 1. 4.]\n",
      " [2. 2. 3.]]\n",
      "Type is <type 'numpy.ndarray'>\n",
      "Shape is (10, 2, 3)\n",
      "Values are: \n",
      "[[[1.003638   1.034767   4.034274  ]\n",
      "  [2.0984607  2.0173953  3.0970352 ]]\n",
      "\n",
      " [[0.947031   0.9405322  3.9047017 ]\n",
      "  [1.8900365  1.9222978  2.7954485 ]]\n",
      "\n",
      " [[1.0069187  0.94272375 3.9289768 ]\n",
      "  [1.9174387  1.7504319  2.8409815 ]]\n",
      "\n",
      " [[1.014997   0.8800684  3.93275   ]\n",
      "  [1.9404083  1.8023666  2.9864943 ]]\n",
      "\n",
      " [[0.9967495  1.062624   4.031016  ]\n",
      "  [2.060107   1.9758348  3.1553822 ]]\n",
      "\n",
      " [[1.079102   0.9176487  3.9996762 ]\n",
      "  [1.9014931  1.8372334  2.8007765 ]]\n",
      "\n",
      " [[0.97245294 0.9941602  4.0634327 ]\n",
      "  [2.1096203  2.0608516  3.077416  ]]\n",
      "\n",
      " [[1.0550686  0.96313435 3.7293746 ]\n",
      "  [2.2170184  2.1987681  2.8864982 ]]\n",
      "\n",
      " [[1.074531   0.9909342  3.9091427 ]\n",
      "  [1.9888587  1.8692344  2.6392128 ]]\n",
      "\n",
      " [[1.058092   1.0653477  3.9613786 ]\n",
      "  [2.0442424  2.0110605  3.1510553 ]]]\n"
     ]
    }
   ],
   "source": [
    "print K\n",
    "print_np(a)"
   ]
  },
  {
   "cell_type": "code",
   "execution_count": 9,
   "metadata": {
    "collapsed": false
   },
   "outputs": [
    {
     "name": "stdout",
     "output_type": "stream",
     "text": [
      "Type is <type 'numpy.ndarray'>\n",
      "Shape is (3,)\n",
      "Values are: \n",
      "[5.78497801 1.11715573 6.10046508]\n"
     ]
    }
   ],
   "source": [
    "print_np( x[:,0].transpose() )"
   ]
  },
  {
   "cell_type": "code",
   "execution_count": 10,
   "metadata": {
    "collapsed": false
   },
   "outputs": [
    {
     "name": "stdout",
     "output_type": "stream",
     "text": [
      "Type is <type 'numpy.ndarray'>\n",
      "Shape is (2, 3, 5, 7)\n",
      "Values are: \n",
      "[[[[1. 1. 1. 1. 1. 1. 1.]\n",
      "   [1. 1. 1. 1. 1. 1. 1.]\n",
      "   [1. 1. 1. 1. 1. 1. 1.]\n",
      "   [1. 1. 1. 1. 1. 1. 1.]\n",
      "   [1. 1. 1. 1. 1. 1. 1.]]\n",
      "\n",
      "  [[1. 1. 1. 1. 1. 1. 1.]\n",
      "   [1. 1. 1. 1. 1. 1. 1.]\n",
      "   [1. 1. 1. 1. 1. 1. 1.]\n",
      "   [1. 1. 1. 1. 1. 1. 1.]\n",
      "   [1. 1. 1. 1. 1. 1. 1.]]\n",
      "\n",
      "  [[1. 1. 1. 1. 1. 1. 1.]\n",
      "   [1. 1. 1. 1. 1. 1. 1.]\n",
      "   [1. 1. 1. 1. 1. 1. 1.]\n",
      "   [1. 1. 1. 1. 1. 1. 1.]\n",
      "   [1. 1. 1. 1. 1. 1. 1.]]]\n",
      "\n",
      "\n",
      " [[[1. 1. 1. 1. 1. 1. 1.]\n",
      "   [1. 1. 1. 1. 1. 1. 1.]\n",
      "   [1. 1. 1. 1. 1. 1. 1.]\n",
      "   [1. 1. 1. 1. 1. 1. 1.]\n",
      "   [1. 1. 1. 1. 1. 1. 1.]]\n",
      "\n",
      "  [[1. 1. 1. 1. 1. 1. 1.]\n",
      "   [1. 1. 1. 1. 1. 1. 1.]\n",
      "   [1. 1. 1. 1. 1. 1. 1.]\n",
      "   [1. 1. 1. 1. 1. 1. 1.]\n",
      "   [1. 1. 1. 1. 1. 1. 1.]]\n",
      "\n",
      "  [[1. 1. 1. 1. 1. 1. 1.]\n",
      "   [1. 1. 1. 1. 1. 1. 1.]\n",
      "   [1. 1. 1. 1. 1. 1. 1.]\n",
      "   [1. 1. 1. 1. 1. 1. 1.]\n",
      "   [1. 1. 1. 1. 1. 1. 1.]]]]\n",
      "Type is <type 'numpy.ndarray'>\n",
      "Shape is (70, 3)\n",
      "Values are: \n",
      "[[1. 1. 1.]\n",
      " [1. 1. 1.]\n",
      " [1. 1. 1.]\n",
      " [1. 1. 1.]\n",
      " [1. 1. 1.]\n",
      " [1. 1. 1.]\n",
      " [1. 1. 1.]\n",
      " [1. 1. 1.]\n",
      " [1. 1. 1.]\n",
      " [1. 1. 1.]\n",
      " [1. 1. 1.]\n",
      " [1. 1. 1.]\n",
      " [1. 1. 1.]\n",
      " [1. 1. 1.]\n",
      " [1. 1. 1.]\n",
      " [1. 1. 1.]\n",
      " [1. 1. 1.]\n",
      " [1. 1. 1.]\n",
      " [1. 1. 1.]\n",
      " [1. 1. 1.]\n",
      " [1. 1. 1.]\n",
      " [1. 1. 1.]\n",
      " [1. 1. 1.]\n",
      " [1. 1. 1.]\n",
      " [1. 1. 1.]\n",
      " [1. 1. 1.]\n",
      " [1. 1. 1.]\n",
      " [1. 1. 1.]\n",
      " [1. 1. 1.]\n",
      " [1. 1. 1.]\n",
      " [1. 1. 1.]\n",
      " [1. 1. 1.]\n",
      " [1. 1. 1.]\n",
      " [1. 1. 1.]\n",
      " [1. 1. 1.]\n",
      " [1. 1. 1.]\n",
      " [1. 1. 1.]\n",
      " [1. 1. 1.]\n",
      " [1. 1. 1.]\n",
      " [1. 1. 1.]\n",
      " [1. 1. 1.]\n",
      " [1. 1. 1.]\n",
      " [1. 1. 1.]\n",
      " [1. 1. 1.]\n",
      " [1. 1. 1.]\n",
      " [1. 1. 1.]\n",
      " [1. 1. 1.]\n",
      " [1. 1. 1.]\n",
      " [1. 1. 1.]\n",
      " [1. 1. 1.]\n",
      " [1. 1. 1.]\n",
      " [1. 1. 1.]\n",
      " [1. 1. 1.]\n",
      " [1. 1. 1.]\n",
      " [1. 1. 1.]\n",
      " [1. 1. 1.]\n",
      " [1. 1. 1.]\n",
      " [1. 1. 1.]\n",
      " [1. 1. 1.]\n",
      " [1. 1. 1.]\n",
      " [1. 1. 1.]\n",
      " [1. 1. 1.]\n",
      " [1. 1. 1.]\n",
      " [1. 1. 1.]\n",
      " [1. 1. 1.]\n",
      " [1. 1. 1.]\n",
      " [1. 1. 1.]\n",
      " [1. 1. 1.]\n",
      " [1. 1. 1.]\n",
      " [1. 1. 1.]]\n"
     ]
    }
   ],
   "source": [
    "a = np.ones((2,3,5,7))\n",
    "print_np(a)\n",
    "print_np( np.reshape(a,(70,3)))"
   ]
  },
  {
   "cell_type": "code",
   "execution_count": 11,
   "metadata": {
    "collapsed": false
   },
   "outputs": [
    {
     "data": {
      "text/plain": [
       "array([8, 5, 9])"
      ]
     },
     "execution_count": 11,
     "metadata": {},
     "output_type": "execute_result"
    }
   ],
   "source": [
    "np.random.randint(10,size=3)"
   ]
  },
  {
   "cell_type": "code",
   "execution_count": 12,
   "metadata": {
    "collapsed": false
   },
   "outputs": [
    {
     "name": "stdout",
     "output_type": "stream",
     "text": [
      "2\n"
     ]
    }
   ],
   "source": [
    "input_x = tf.placeholder(tf.float32, [None,23,2,3])\n",
    "print np.shape(input_x)[2]"
   ]
  },
  {
   "cell_type": "code",
   "execution_count": null,
   "metadata": {
    "collapsed": true
   },
   "outputs": [],
   "source": []
  }
 ],
 "metadata": {
  "kernelspec": {
   "display_name": "Python 2",
   "language": "python",
   "name": "python2"
  },
  "language_info": {
   "codemirror_mode": {
    "name": "ipython",
    "version": 2
   },
   "file_extension": ".py",
   "mimetype": "text/x-python",
   "name": "python",
   "nbconvert_exporter": "python",
   "pygments_lexer": "ipython2",
   "version": "2.7.13"
  }
 },
 "nbformat": 4,
 "nbformat_minor": 0
}
